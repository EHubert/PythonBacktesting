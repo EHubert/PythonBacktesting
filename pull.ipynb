{
 "nbformat": 4,
 "nbformat_minor": 2,
 "metadata": {
  "language_info": {
   "name": "python",
   "codemirror_mode": {
    "name": "ipython",
    "version": 3
   },
   "version": "3.8.1-final"
  },
  "orig_nbformat": 2,
  "file_extension": ".py",
  "mimetype": "text/x-python",
  "name": "python",
  "npconvert_exporter": "python",
  "pygments_lexer": "ipython3",
  "version": 3,
  "kernelspec": {
   "name": "python38164bitvenvvenv05edce700f5d41f0806ee917360b4b55",
   "display_name": "Python 3.8.1 64-bit ('venv': venv)"
  }
 },
 "cells": [
  {
   "cell_type": "code",
   "execution_count": 39,
   "metadata": {},
   "outputs": [
    {
     "output_type": "stream",
     "name": "stdout",
     "text": "{'1. Information': 'Intraday (1min) open, high, low, close prices and volume', '2. Symbol': 'AAPL', '3. Last Refreshed': '2020-02-25 10:49:00', '4. Interval': '1min', '5. Output Size': 'Full size', '6. Time Zone': 'US/Eastern'}\n"
    }
   ],
   "source": [
    "import pandas as pd\n",
    "from alpha_vantage.timeseries import TimeSeries\n",
    "import sys\n",
    "import random\n",
    "\n",
    "ticker = str(\"AAPL\")\n",
    "\n",
    "#lines = open(\"keys.txt\").read().splitlines()\n",
    "#keys = random.choice(lines)\n",
    "\n",
    "time = TimeSeries(key=\"SUMO25VBT2SJ5HQA\", output_format=\"pandas\")\n",
    "data = time.get_intraday(symbol=ticker, interval=\"1min\", outputsize=\"full\")\n",
    "\n",
    "# print(ticker)\n",
    "# print(data)\n",
    "df = pd.DataFrame(data[0])\n",
    "print(data[1])\n",
    "\n",
    "\n",
    "\n",
    ""
   ]
  },
  {
   "cell_type": "code",
   "execution_count": 42,
   "metadata": {},
   "outputs": [
    {
     "output_type": "execute_result",
     "data": {
      "text/plain": "324.1300    8\n324.0400    8\n323.9700    7\n323.9900    6\n299.3300    6\n           ..\n314.6400    1\n318.9498    1\n323.3700    1\n317.4400    1\n300.0000    1\nName: 4. close, Length: 1252, dtype: int64"
     },
     "metadata": {},
     "execution_count": 42
    }
   ],
   "source": [
    "df[\"4. close\"].value_counts()"
   ]
  }
 ]
}